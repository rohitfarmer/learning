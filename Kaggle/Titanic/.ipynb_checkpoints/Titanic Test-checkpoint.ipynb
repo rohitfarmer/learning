{
 "cells": [
  {
   "cell_type": "code",
   "execution_count": 1,
   "metadata": {},
   "outputs": [],
   "source": [
    "import tensorflow as tf\n",
    "import numpy as np\n",
    "import pandas as pd"
   ]
  },
  {
   "cell_type": "code",
   "execution_count": 2,
   "metadata": {},
   "outputs": [],
   "source": [
    "def format_data(df):\n",
    "    df.drop(labels=[\"Name\", \"Ticket\"], axis=1, inplace=True)\n",
    "    df.Sex.replace(to_replace=[\"male\",\"female\"], value=[1,0], inplace=True)\n",
    "\n",
    "    # Convert categorical Embarked values into one hot encoding.\n",
    "    df = df.join(pd.get_dummies(df.Embarked))\n",
    "    df.drop(labels=\"Embarked\", axis=1, inplace=True)\n",
    "\n",
    "    # Replace NaNs in Age with mean.\n",
    "    df.Age.replace(to_replace=np.nan, value=round(df.Age.mean()), inplace=True)\n",
    "\n",
    "    # Replace NaNs in Fare with mean.\n",
    "    df.Fare.replace(to_replace=np.nan, value=round(df.Fare.mean()), inplace=True)\n",
    "\n",
    "    # Replace NaNs in Cabin with 0 and with 1 for anything else.\n",
    "    df.Cabin.replace(to_replace=np.nan, value=0,inplace=True)\n",
    "    df.loc[df['Cabin'] != 0] = 1\n",
    "    \n",
    "    return df"
   ]
  },
  {
   "cell_type": "code",
   "execution_count": 3,
   "metadata": {},
   "outputs": [],
   "source": [
    "df_pred = pd.read_csv(\"test.csv\", index_col=0)\n",
    "df_pred = format_data(df_pred)"
   ]
  },
  {
   "cell_type": "code",
   "execution_count": 4,
   "metadata": {},
   "outputs": [],
   "source": [
    "tf.reset_default_graph() # Reset default graph if you want to execute this cell multiple times. \n",
    "\n",
    "n_inputs = df_pred.shape[1]\n",
    "n_hidden1 = 10\n",
    "n_hidden2 = 5\n",
    "n_outputs = 1\n",
    "\n",
    "X = tf.placeholder(tf.float32, shape=(None,n_inputs), name=\"X\")\n",
    "y = tf.placeholder(tf.float32, shape=(None), name=\"y\")\n",
    "\n",
    "    \n",
    "# Define network architecture\n",
    "hidden1 = tf.layers.dense(X, n_hidden1, activation=tf.nn.relu,\n",
    "                          kernel_initializer = tf.contrib.layers.xavier_initializer(),\n",
    "                          name=\"hidden1\")\n",
    "\n",
    "# This is how you can get the weights or any other property saved in the graph variables.\n",
    "with tf.variable_scope(\"hidden1\", reuse=True):\n",
    "    weights1 = tf.get_variable(\"kernel\")\n",
    "\n",
    "hidden2 = tf.layers.dense(hidden1, n_hidden2, activation=tf.nn.relu,\n",
    "                          kernel_regularizer=tf.contrib.layers.l2_regularizer(weights1), \n",
    "                          name=\"hidden2\")\n",
    "\n",
    "logits = tf.layers.dense(hidden1, n_outputs, name=\"logits\")\n",
    "\n",
    "with tf.name_scope(\"pred\"):\n",
    "    #The default threshold is 0.5, rounded off directly\n",
    "    prediction = tf.round(tf.sigmoid(logits))\n",
    "\n",
    "\n",
    "# Assign variable initializer\n",
    "init = tf.global_variables_initializer()\n",
    "\n",
    "# Assign model saver\n",
    "restorer = tf.train.Saver()"
   ]
  },
  {
   "cell_type": "code",
   "execution_count": 5,
   "metadata": {},
   "outputs": [
    {
     "name": "stdout",
     "output_type": "stream",
     "text": [
      "INFO:tensorflow:Restoring parameters from ./titanic.ckpt\n"
     ]
    }
   ],
   "source": [
    "#restorer = tf.train.Saver()\n",
    "\n",
    "with tf.Session() as pred:\n",
    "    init.run()\n",
    "    restorer.restore(pred, tf.train.latest_checkpoint('./'))\n",
    "    output = pred.run(prediction , feed_dict={X:df_pred})"
   ]
  },
  {
   "cell_type": "code",
   "execution_count": 6,
   "metadata": {},
   "outputs": [],
   "source": [
    "titanic_submission = pd.DataFrame(index=df_pred.index)"
   ]
  },
  {
   "cell_type": "code",
   "execution_count": 7,
   "metadata": {},
   "outputs": [],
   "source": [
    "titanic_submission['Survived'] = output"
   ]
  },
  {
   "cell_type": "code",
   "execution_count": 14,
   "metadata": {},
   "outputs": [],
   "source": [
    "titanic_submission['Survived'] = titanic_submission.Survived.astype('int64')"
   ]
  },
  {
   "cell_type": "code",
   "execution_count": 13,
   "metadata": {},
   "outputs": [],
   "source": [
    "titanic_submission.to_csv('submission.csv')"
   ]
  },
  {
   "cell_type": "code",
   "execution_count": null,
   "metadata": {},
   "outputs": [],
   "source": []
  }
 ],
 "metadata": {
  "kernelspec": {
   "display_name": "Python 2",
   "language": "python",
   "name": "python2"
  },
  "language_info": {
   "codemirror_mode": {
    "name": "ipython",
    "version": 2
   },
   "file_extension": ".py",
   "mimetype": "text/x-python",
   "name": "python",
   "nbconvert_exporter": "python",
   "pygments_lexer": "ipython2",
   "version": "2.7.12"
  }
 },
 "nbformat": 4,
 "nbformat_minor": 2
}
